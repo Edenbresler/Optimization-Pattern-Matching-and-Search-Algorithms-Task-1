{
  "cells": [
    {
      "cell_type": "markdown",
      "source": [
        "**Important: Before you start, please add your name and id to the notebook file name and add it here as well**\n",
        "\n",
        "Example: \"notebook1_John_Doe_123123123.ipynb\""
      ],
      "metadata": {
        "id": "XD1Os1PUw9t4"
      }
    },
    {
      "cell_type": "markdown",
      "source": [
        "**Names:**\n",
        "\n",
        "1. Ofir Gormes 208575068\n",
        "\n",
        "2. Eden Bresler 209424589"
      ],
      "metadata": {
        "id": "PtC1iRLnxB-k"
      }
    },
    {
      "cell_type": "markdown",
      "metadata": {
        "id": "UTjamICrdJJK"
      },
      "source": [
        "# Part 1"
      ]
    },
    {
      "cell_type": "markdown",
      "metadata": {
        "id": "o7eShdXxdJJO"
      },
      "source": [
        "# Scoring matrix BLOSUM62"
      ]
    },
    {
      "cell_type": "markdown",
      "metadata": {
        "id": "DlkxlGVWdJJP"
      },
      "source": [
        "Install `biopython` using the following steps:\n",
        "1. Run \"Anaconda Prompt\" as administrator (from the Start Menu)\n",
        "2. Type `conda install -c anaconda biopython`\n",
        "\n",
        "if you're using Google Colab, install `biopython` using the following command:\n",
        "`!pip install biopython` (uncomment it in the command below)"
      ]
    },
    {
      "cell_type": "markdown",
      "metadata": {
        "id": "8zFWykvBdJJQ"
      },
      "source": [
        "Obtain BLOSUM62 scoring matrix for amino acids as follows:"
      ]
    },
    {
      "cell_type": "code",
      "execution_count": 1,
      "metadata": {
        "id": "3nZuyU_XdJJQ",
        "colab": {
          "base_uri": "https://localhost:8080/"
        },
        "outputId": "c523ef26-a31b-4c50-8c3a-1138de49d81a"
      },
      "outputs": [
        {
          "output_type": "stream",
          "name": "stdout",
          "text": [
            "Collecting biopython\n",
            "  Downloading biopython-1.83-cp310-cp310-manylinux_2_17_x86_64.manylinux2014_x86_64.whl (3.1 MB)\n",
            "\u001b[?25l     \u001b[90m━━━━━━━━━━━━━━━━━━━━━━━━━━━━━━━━━━━━━━━━\u001b[0m \u001b[32m0.0/3.1 MB\u001b[0m \u001b[31m?\u001b[0m eta \u001b[36m-:--:--\u001b[0m\r\u001b[2K     \u001b[91m━━━\u001b[0m\u001b[90m╺\u001b[0m\u001b[90m━━━━━━━━━━━━━━━━━━━━━━━━━━━━━━━━━━━━\u001b[0m \u001b[32m0.3/3.1 MB\u001b[0m \u001b[31m7.5 MB/s\u001b[0m eta \u001b[36m0:00:01\u001b[0m\r\u001b[2K     \u001b[91m━━━━━━━━━━━━\u001b[0m\u001b[90m╺\u001b[0m\u001b[90m━━━━━━━━━━━━━━━━━━━━━━━━━━━\u001b[0m \u001b[32m1.0/3.1 MB\u001b[0m \u001b[31m14.0 MB/s\u001b[0m eta \u001b[36m0:00:01\u001b[0m\r\u001b[2K     \u001b[91m━━━━━━━━━━━━━━━━━━━━━━━\u001b[0m\u001b[90m╺\u001b[0m\u001b[90m━━━━━━━━━━━━━━━━\u001b[0m \u001b[32m1.8/3.1 MB\u001b[0m \u001b[31m17.4 MB/s\u001b[0m eta \u001b[36m0:00:01\u001b[0m\r\u001b[2K     \u001b[91m━━━━━━━━━━━━━━━━━━━━━━━━━━━━━━━━━━━━\u001b[0m\u001b[91m╸\u001b[0m\u001b[90m━━━\u001b[0m \u001b[32m2.9/3.1 MB\u001b[0m \u001b[31m20.6 MB/s\u001b[0m eta \u001b[36m0:00:01\u001b[0m\r\u001b[2K     \u001b[90m━━━━━━━━━━━━━━━━━━━━━━━━━━━━━━━━━━━━━━━━\u001b[0m \u001b[32m3.1/3.1 MB\u001b[0m \u001b[31m18.4 MB/s\u001b[0m eta \u001b[36m0:00:00\u001b[0m\n",
            "\u001b[?25hRequirement already satisfied: numpy in /usr/local/lib/python3.10/dist-packages (from biopython) (1.23.5)\n",
            "Installing collected packages: biopython\n",
            "Successfully installed biopython-1.83\n"
          ]
        }
      ],
      "source": [
        "# uncomment the following line if you're using Google Colab:\n",
        "!pip install biopython\n",
        "\n",
        "from Bio.Align import substitution_matrices\n",
        "matrix = substitution_matrices.load(\"BLOSUM62\")"
      ]
    },
    {
      "cell_type": "markdown",
      "metadata": {
        "id": "7wYk-90zdJJR"
      },
      "source": [
        "For example, the score for aligning amino acid `S` versus `P` is:"
      ]
    },
    {
      "cell_type": "code",
      "execution_count": 2,
      "metadata": {
        "id": "MVo7xki-dJJS",
        "colab": {
          "base_uri": "https://localhost:8080/"
        },
        "outputId": "9af0c44f-e78e-422a-d86c-2a6d6b432305"
      },
      "outputs": [
        {
          "output_type": "execute_result",
          "data": {
            "text/plain": [
              "-1.0"
            ]
          },
          "metadata": {},
          "execution_count": 2
        }
      ],
      "source": [
        "matrix['S', 'P']"
      ]
    },
    {
      "cell_type": "code",
      "execution_count": 3,
      "metadata": {
        "id": "61B7aPAgdJJS",
        "colab": {
          "base_uri": "https://localhost:8080/"
        },
        "outputId": "de8e4e68-1ad0-409a-c133-d2b67f24866c"
      },
      "outputs": [
        {
          "output_type": "execute_result",
          "data": {
            "text/plain": [
              "4.0"
            ]
          },
          "metadata": {},
          "execution_count": 3
        }
      ],
      "source": [
        "matrix['I', 'I']"
      ]
    },
    {
      "cell_type": "code",
      "execution_count": 4,
      "metadata": {
        "id": "b-5xqLDLdJJT",
        "colab": {
          "base_uri": "https://localhost:8080/"
        },
        "outputId": "f786fcd6-7ddd-4455-c10c-e818a3e59550"
      },
      "outputs": [
        {
          "output_type": "execute_result",
          "data": {
            "text/plain": [
              "-1.0"
            ]
          },
          "metadata": {},
          "execution_count": 4
        }
      ],
      "source": [
        "matrix['H', 'K']"
      ]
    },
    {
      "cell_type": "markdown",
      "metadata": {
        "id": "_ztK6FQSdJJT"
      },
      "source": [
        "# BLAST\n",
        "The input for BLAST is a **Database (DB)** sequence, and one or more **query** sequences.  \n",
        "In addition, a scoring matrix and parameters $k$, $T$, and $X$."
      ]
    },
    {
      "cell_type": "markdown",
      "metadata": {
        "id": "DtbMMgHHdJJU"
      },
      "source": [
        "## 1. **Database pre-process**:\n",
        "  \n",
        "  Mapping each $k$-mer (a substrings of length $k$) from the **DB** to all its indexes in the **DB** sequence.\n",
        "  This is done once for the DB sequence, and used for multiple queries.\n",
        "  \n",
        "  Complete the function `build_db` that creates a dictionary as follows:   \n",
        "  **key** - a $k$-mer from `db`, **value** - a list of start indexes of the $k$-mer in `db`"
      ]
    },
    {
      "cell_type": "code",
      "execution_count": 13,
      "metadata": {
        "id": "l34vDTcRdJJV"
      },
      "outputs": [],
      "source": [
        "def build_db(db, k):\n",
        "\n",
        "    db_dict = {}\n",
        "    for i in range(0, len(db) - k + 1):\n",
        "      if db[i: i+k] not in db_dict.keys():\n",
        "        db_dict[db[i: i+k]] = [i]\n",
        "      else:\n",
        "        db_dict[db[i: i+k]].append(i)\n",
        "\n",
        "\n",
        "    return db_dict"
      ]
    },
    {
      "cell_type": "code",
      "execution_count": 16,
      "metadata": {
        "id": "EISOumIsdJJV"
      },
      "outputs": [],
      "source": [
        "db_dict = build_db('AACGTAAAC', 3)"
      ]
    },
    {
      "cell_type": "code",
      "execution_count": 17,
      "metadata": {
        "id": "pUX1g3CIdJJV"
      },
      "outputs": [],
      "source": [
        "assert db_dict == {'AAC': [0, 6], 'ACG': [1], 'CGT': [2], 'GTA': [3], 'TAA': [4], 'AAA': [5]}"
      ]
    },
    {
      "cell_type": "markdown",
      "metadata": {
        "id": "8YFiS5KfdJJW"
      },
      "source": [
        "## 2. **Query processing**:\n",
        "  \n",
        "###  i. For each $k$-mer in the query, make a list of neighbor words.\n",
        "  > **Reminder**: A neighbor word $𝑠′$ of a $k$-mer $𝑠$ is a word of length $|s|=k$, with $score(s,s')\\geq T$ (using a scoring matrix). $T$ is a chosen threshold.\n"
      ]
    },
    {
      "cell_type": "markdown",
      "metadata": {
        "id": "Z8YRdacOdJJW"
      },
      "source": [
        "#### First, a helper function.   \n",
        "Complete the function `align` that gets two sequences of the same length and a scoring matrix, and returns the score of alignment without indels."
      ]
    },
    {
      "cell_type": "code",
      "execution_count": 18,
      "metadata": {
        "id": "wa4cWAs3dJJW"
      },
      "outputs": [],
      "source": [
        "def align(seq1, seq2, scoring_matrix):\n",
        "    if len(seq1) != len(seq2):\n",
        "        raise ValueError(\"Sequences must be with the same length\")\n",
        "    score = 0\n",
        "    for i in range(len(seq1)):\n",
        "      score += scoring_matrix[seq1[i], seq2[i]]\n",
        "    return score"
      ]
    },
    {
      "cell_type": "code",
      "execution_count": 19,
      "metadata": {
        "id": "lHOt0Dg3dJJX"
      },
      "outputs": [],
      "source": [
        "assert align('YLKSHFCTA', 'YLNAKKFVH', matrix) == 4"
      ]
    },
    {
      "cell_type": "markdown",
      "metadata": {
        "id": "htol_ChzdJJX"
      },
      "source": [
        "#### Finding neighbors\n",
        "Let's look at the alphabet of amino acids"
      ]
    },
    {
      "cell_type": "code",
      "execution_count": 20,
      "metadata": {
        "id": "2Hw-KF6DdJJX"
      },
      "outputs": [],
      "source": [
        "alphabet = matrix.alphabet"
      ]
    },
    {
      "cell_type": "code",
      "execution_count": 21,
      "metadata": {
        "id": "6h6i_p32dJJY",
        "colab": {
          "base_uri": "https://localhost:8080/",
          "height": 35
        },
        "outputId": "2d9749a1-ef25-4901-8d08-c0b97a5e514e"
      },
      "outputs": [
        {
          "output_type": "execute_result",
          "data": {
            "text/plain": [
              "'ARNDCQEGHILKMFPSTWYVBZX*'"
            ],
            "application/vnd.google.colaboratory.intrinsic+json": {
              "type": "string"
            }
          },
          "metadata": {},
          "execution_count": 21
        }
      ],
      "source": [
        "alphabet"
      ]
    },
    {
      "cell_type": "markdown",
      "metadata": {
        "id": "urlO2nOJdJJY"
      },
      "source": [
        "We will use the first 20 amino-acid symbols, the last 4 signify a combination of two or more amino acids"
      ]
    },
    {
      "cell_type": "code",
      "execution_count": 22,
      "metadata": {
        "id": "p2hleHaKdJJY",
        "colab": {
          "base_uri": "https://localhost:8080/",
          "height": 35
        },
        "outputId": "07f37e95-0ab6-4869-cb5b-5137329ab823"
      },
      "outputs": [
        {
          "output_type": "execute_result",
          "data": {
            "text/plain": [
              "'ARNDCQEGHILKMFPSTWYV'"
            ],
            "application/vnd.google.colaboratory.intrinsic+json": {
              "type": "string"
            }
          },
          "metadata": {},
          "execution_count": 22
        }
      ],
      "source": [
        "ALPHABET = matrix.alphabet[:20]\n",
        "ALPHABET"
      ]
    },
    {
      "cell_type": "markdown",
      "metadata": {
        "id": "MwJlkxledJJY"
      },
      "source": [
        "Complete the function `find_neighbors_rec` that finds all neighbors of a $k$-mer\n",
        "\n",
        "> Description of `find_neighbors_rec`:    \n",
        "In each step of the recursion, assume that `neighbor[pos:] == kmer[pos:]`   \n",
        "**Stop condition**: If `pos` is equal to the length of the `kmer`, we add the `neighbor` to `neighbors` list   \n",
        "**Otherwise**, we will try to replace the char in index `pos` with each letter from the `alphabet` (including itself)    \n",
        "The new score will be obtained by removing the alignment score of `kmer[pos]` with itself, and adding the alignment score of `kmer[pos]` with the new letter  \n",
        "If the new score is $>=T$, we will continue with the recursion (and go to the next position)"
      ]
    },
    {
      "cell_type": "code",
      "execution_count": 33,
      "metadata": {
        "id": "MOOl-JZ2dJJZ"
      },
      "outputs": [],
      "source": [
        "def find_neighbors(kmer, scoring_matrix, alphabet, T):\n",
        "\n",
        "    neighbors = []\n",
        "    max_score = align(kmer, kmer, scoring_matrix)\n",
        "\n",
        "    if max_score >= T:\n",
        "        find_neighbors_rec(kmer, kmer, 0, max_score, alphabet, neighbors, scoring_matrix, T)\n",
        "\n",
        "    return neighbors\n",
        "\n",
        "def find_neighbors_rec(kmer, neighbor, pos, curr_score, alphabet, neighbors, scoring_matrix, T):\n",
        "    if pos == len(kmer):\n",
        "      neighbors.append(neighbor)\n",
        "    else:\n",
        "      for letter in alphabet:\n",
        "        neighbor = neighbor[:pos] + letter + neighbor[pos+1:]\n",
        "        new_score = curr_score - align(kmer[pos], kmer[pos], scoring_matrix) + align(kmer[pos], letter, scoring_matrix)\n",
        "        if new_score >= T:\n",
        "          find_neighbors_rec(kmer, neighbor, pos + 1, new_score, alphabet, neighbors, scoring_matrix, T)\n"
      ]
    },
    {
      "cell_type": "markdown",
      "metadata": {
        "id": "XqHD3SPEdJJZ"
      },
      "source": [
        "These are all possible neighbors of `YI`"
      ]
    },
    {
      "cell_type": "code",
      "execution_count": 34,
      "metadata": {
        "id": "QUIACy7SdJJZ"
      },
      "outputs": [],
      "source": [
        "neighbors = find_neighbors('YI', matrix, ALPHABET, -50)"
      ]
    },
    {
      "cell_type": "markdown",
      "metadata": {
        "id": "Ilf77d_1dJJZ"
      },
      "source": [
        "This number should be equal to $20^2=400$"
      ]
    },
    {
      "cell_type": "code",
      "execution_count": 35,
      "metadata": {
        "id": "ZBrNDoIxdJJa"
      },
      "outputs": [],
      "source": [
        "assert len(neighbors) == 400"
      ]
    },
    {
      "cell_type": "code",
      "execution_count": 36,
      "metadata": {
        "id": "MNqKu_GPdJJa",
        "colab": {
          "base_uri": "https://localhost:8080/"
        },
        "outputId": "fbd83b16-c2b9-435d-fdeb-4a4d5b64a2e1"
      },
      "outputs": [
        {
          "output_type": "execute_result",
          "data": {
            "text/plain": [
              "['AA', 'AR', 'AN', 'AD', 'AC', 'AQ', 'AE', 'AG', 'AH', 'AI']"
            ]
          },
          "metadata": {},
          "execution_count": 36
        }
      ],
      "source": [
        "neighbors[:10]"
      ]
    },
    {
      "cell_type": "code",
      "execution_count": 37,
      "metadata": {
        "id": "x4VtRzqkdJJa"
      },
      "outputs": [],
      "source": [
        "neighbors = find_neighbors('YI', matrix, ALPHABET, 6)"
      ]
    },
    {
      "cell_type": "code",
      "execution_count": 38,
      "metadata": {
        "id": "zh6hb_J_dJJa",
        "colab": {
          "base_uri": "https://localhost:8080/"
        },
        "outputId": "0c20933f-a893-493f-d17a-6f72e17d0f9b"
      },
      "outputs": [
        {
          "output_type": "execute_result",
          "data": {
            "text/plain": [
              "['HI', 'FI', 'FV', 'WI', 'YA', 'YC', 'YI', 'YL', 'YM', 'YF', 'YT', 'YY', 'YV']"
            ]
          },
          "metadata": {},
          "execution_count": 38
        }
      ],
      "source": [
        "neighbors"
      ]
    },
    {
      "cell_type": "code",
      "execution_count": 39,
      "metadata": {
        "id": "aGAzsw8ldJJa"
      },
      "outputs": [],
      "source": [
        "assert set(neighbors) == set(['HI', 'FI', 'FV', 'WI', 'YA', 'YC', 'YI', 'YL', 'YM', 'YF', 'YT', 'YY', 'YV'])"
      ]
    },
    {
      "cell_type": "markdown",
      "metadata": {
        "id": "gjA6njowdJJb"
      },
      "source": [
        "Let's compare the running time of going over all possible neighbors of a $k$-mer of length 5 (and then extracting only neighbors with score $\\geq T$)"
      ]
    },
    {
      "cell_type": "markdown",
      "metadata": {
        "id": "jEse7kYVdJJb"
      },
      "source": [
        "We will get all possible neighbors of `YIIMV` by setting $T=-100$"
      ]
    },
    {
      "cell_type": "code",
      "execution_count": 40,
      "metadata": {
        "id": "V4wwaJKOdJJb"
      },
      "outputs": [],
      "source": [
        "from datetime import datetime\n",
        "\n",
        "start_time = datetime.now()\n",
        "\n",
        "neighbors = find_neighbors('YIIMV', matrix, ALPHABET, -100)\n",
        "\n",
        "timedelta = datetime.now() - start_time"
      ]
    },
    {
      "cell_type": "code",
      "execution_count": 41,
      "metadata": {
        "id": "JZifcWHtdJJb",
        "colab": {
          "base_uri": "https://localhost:8080/"
        },
        "outputId": "beb99591-12b1-4827-ef79-0c3e576e1259"
      },
      "outputs": [
        {
          "output_type": "stream",
          "name": "stdout",
          "text": [
            "0:00:25.286811\n"
          ]
        }
      ],
      "source": [
        "print(timedelta)"
      ]
    },
    {
      "cell_type": "markdown",
      "metadata": {
        "id": "i1URsbBGdJJb"
      },
      "source": [
        "Now we will use our efficient recursion, with $T=20$"
      ]
    },
    {
      "cell_type": "code",
      "execution_count": 42,
      "metadata": {
        "id": "DP1ie8zvdJJc"
      },
      "outputs": [],
      "source": [
        "start_time = datetime.now()\n",
        "\n",
        "neighbors = find_neighbors('YIIMV', matrix, ALPHABET, 20)\n",
        "\n",
        "timedelta = datetime.now() - start_time"
      ]
    },
    {
      "cell_type": "code",
      "execution_count": 43,
      "metadata": {
        "id": "iq9Zh3JQdJJc",
        "colab": {
          "base_uri": "https://localhost:8080/"
        },
        "outputId": "36a1ec74-ecf1-49d2-c942-3b4dba7632a7"
      },
      "outputs": [
        {
          "output_type": "stream",
          "name": "stdout",
          "text": [
            "0:00:00.008597\n"
          ]
        }
      ],
      "source": [
        "print(timedelta)"
      ]
    },
    {
      "cell_type": "markdown",
      "metadata": {
        "id": "WANrMJoMdJJc"
      },
      "source": [
        "This is a huge time improvement!   \n",
        "Remember that we need to find neighbors of each k-mer from the query"
      ]
    }
  ],
  "metadata": {
    "kernelspec": {
      "display_name": "Python 3",
      "language": "python",
      "name": "python3"
    },
    "language_info": {
      "codemirror_mode": {
        "name": "ipython",
        "version": 3
      },
      "file_extension": ".py",
      "mimetype": "text/x-python",
      "name": "python",
      "nbconvert_exporter": "python",
      "pygments_lexer": "ipython3",
      "version": "3.8.5"
    },
    "colab": {
      "provenance": []
    }
  },
  "nbformat": 4,
  "nbformat_minor": 0
}